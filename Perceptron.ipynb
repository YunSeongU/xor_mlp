{
 "cells": [
  {
   "cell_type": "code",
   "execution_count": 14,
   "metadata": {},
   "outputs": [],
   "source": [
    "import numpy as np\n",
    "\n",
    "def AND(x1,x2):\n",
    "    x = np.array([x1,x2])\n",
    "    w = np.array([0.5,0.5])\n",
    "    b=-0.7                       #x1w1+x2w2>=theta -----> x1w1+x2w2-theta>=0 -----> x1w1+x2w2+b>=0\n",
    "    val = np.sum(w*x)+b\n",
    "    if val<=0:\n",
    "        return 0\n",
    "    else:\n",
    "        return 1\n",
    "\n",
    "\n",
    "def OR(x1,x2):\n",
    "    x=np.array([x1,x2])\n",
    "    w = np.array([0.5,0.5])\n",
    "    b=-0.2\n",
    "    val = np.sum(w*x)+b\n",
    "    if val<=0:\n",
    "        return 0\n",
    "    else:\n",
    "        return 1\n",
    "\n",
    "def NAND(x1,x2):\n",
    "    x=np.array([x1,x2])\n",
    "    w=np.array([-0.5,-0.5])\n",
    "    b=0.7\n",
    "    val = np.sum(w*x)+b\n",
    "    if val<=0:\n",
    "        return 0\n",
    "    else:\n",
    "        return 1\n",
    "\n",
    "def XOR(x1,x2):\n",
    "    x=np.array([x1,x2])\n",
    "    retNA = NAND(x1,x2)\n",
    "    retOR = OR(x1,x2)\n",
    "    y= AND(retNA,retOR)\n",
    "    return y\n"
   ]
  },
  {
   "cell_type": "code",
   "execution_count": 15,
   "metadata": {},
   "outputs": [
    {
     "name": "stdout",
     "output_type": "stream",
     "text": [
      "0 and 0 = 0\n",
      "0 and 1 = 1\n",
      "1 and 0 = 1\n",
      "1 and 1 = 0\n"
     ]
    }
   ],
   "source": [
    "for x in [(0,0),(0,1),(1,0),(1,1)]:\n",
    "    y=XOR(x[0],x[1])\n",
    "    print('{} and {} = {}'.format(x[0],x[1],y))"
   ]
  },
  {
   "cell_type": "code",
   "execution_count": 20,
   "metadata": {},
   "outputs": [
    {
     "data": {
      "text/plain": [
       "array([[ 2.46025479e-04],\n",
       "       [ 4.32348557e-03],\n",
       "       [ 1.79283759e-03],\n",
       "       [-3.96705174e-03],\n",
       "       [ 3.48304517e-03],\n",
       "       [-4.05111306e-03],\n",
       "       [ 9.43016359e-04],\n",
       "       [ 2.96935558e-05],\n",
       "       [-1.28111543e-03],\n",
       "       [ 6.01621469e-03]])"
      ]
     },
     "execution_count": 20,
     "metadata": {},
     "output_type": "execute_result"
    }
   ],
   "source": [
    "RND_MEAN = 0     #정규분포 난숫값 평균\n",
    "RND_STD = 0.0030     #정규분포 난숫값 표준편차\n",
    "LEARNING_RATE = 0.001     #학습율\n",
    "\n",
    "weight = np.random.normal(RND_MEAN, RND_STD,[10, 1])\n",
    "weight"
   ]
  },
  {
   "cell_type": "code",
   "execution_count": null,
   "metadata": {},
   "outputs": [],
   "source": [
    "import numpy as np\n",
    "\n",
    "\n",
    "np.random.seed(1234)\n",
    "RND_MEAN=0\n",
    "RND_STD=0.003\n",
    "learning_rate=0.001\n",
    "\n",
    "def test_exec(epoch_count=10,mb_size=10,report=1):\n",
    "    init_model()\n",
    "    trainNtest(epoch_count,mb_size,report)\n",
    "\n",
    "global data,in_cnt,out_cnt\n",
    "in_cnt=2;out_cnt=1\n",
    "\n",
    "def init_model():\n",
    "    global weight,bias,input_cnt,output_cnt\n",
    "    weight = np.random.normal(RND_MEAN,RND_STD,[input_cnt,output_cnt])\n",
    "    bias=np.zeros([output_cnt])\n",
    "\n",
    "def trainNtest(epoch_count,report):\n",
    "    for epoch in range(epoch_count):\n",
    "        losses=[], accs=[]\n",
    "\n",
    "        X=[[0,0],[0,1],[1,0],[1,1]]\n",
    "        Y=[[0],[1],[1],[0]]"
   ]
  },
  {
   "cell_type": "code",
   "execution_count": 72,
   "metadata": {},
   "outputs": [
    {
     "name": "stdout",
     "output_type": "stream",
     "text": [
      "[[ 0.455  0.365  0.095 15.   ]\n",
      " [ 0.35   0.265  0.09   7.   ]\n",
      " [ 0.53   0.42   0.135  9.   ]\n",
      " ...\n",
      " [ 0.6    0.475  0.205  9.   ]\n",
      " [ 0.625  0.485  0.15  10.   ]\n",
      " [ 0.71   0.555  0.195 12.   ]]\n",
      "[[18.]\n",
      " [ 7.]\n",
      " [ 8.]\n",
      " [ 6.]\n",
      " [ 5.]\n",
      " [11.]\n",
      " [11.]\n",
      " [22.]\n",
      " [11.]\n",
      " [10.]]\n"
     ]
    }
   ],
   "source": [
    "import csv\n",
    "with open('./abalone.csv') as csvfile:\n",
    "    csvreader = csv.reader(csvfile)      #csv파일을 메모리로 읽음\n",
    "    next(csvreader, None)     # 첫 행을 읽지 않고 건너뛰게 만든다\n",
    "    rows = []\n",
    "    for row in csvreader:\n",
    "        rows.append(row)\n",
    "data = np.zeros([len(rows), 4])\n",
    "#print(rows[-1])\n",
    "for n, row in enumerate(rows):     \n",
    "    if row[0] == 'I': data[n, 0] = 1\n",
    "    if row[0] == 'M': data[n, 1] = 1\n",
    "    if row[0] == 'F': data[n, 2] = 1\n",
    "    \n",
    "    data[n, 0:3] = row[1:4]\n",
    "    data[n,-1:]=row[-1:]\n",
    "print(data)\n",
    "shuffle_map = np.arange(data.shape[0])     #인덱스 만들기\n",
    "np.random.shuffle(shuffle_map)     #인덱스 섞음\n",
    "step_count = int(data.shape[0] * 0.8) // 10    # 미니배치 학습에 필요한 배치 수\n",
    "test_begin_idx = step_count * 10    # train test 분류 경계 인덱스\n",
    "\n",
    "\n",
    "\n",
    "train_data = data[shuffle_map[10*15:10*(1+15)]]     #미니배치 구간의 위치를 따져 그 구간에 해당하는 shuffle_map만 가져옴\n",
    "print(train_data[:, -1:])\n"
   ]
  }
 ],
 "metadata": {
  "kernelspec": {
   "display_name": "20221226env",
   "language": "python",
   "name": "python3"
  },
  "language_info": {
   "codemirror_mode": {
    "name": "ipython",
    "version": 3
   },
   "file_extension": ".py",
   "mimetype": "text/x-python",
   "name": "python",
   "nbconvert_exporter": "python",
   "pygments_lexer": "ipython3",
   "version": "3.10.8 | packaged by conda-forge | (main, Nov 24 2022, 14:07:00) [MSC v.1916 64 bit (AMD64)]"
  },
  "orig_nbformat": 4,
  "vscode": {
   "interpreter": {
    "hash": "cb216129a813ba247032856bc56e8d94c5a1daee7b8b4cb2b6f779739e7bbeda"
   }
  }
 },
 "nbformat": 4,
 "nbformat_minor": 2
}
